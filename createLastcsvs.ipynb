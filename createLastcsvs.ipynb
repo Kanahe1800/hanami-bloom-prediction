{
  "nbformat": 4,
  "nbformat_minor": 0,
  "metadata": {
    "colab": {
      "provenance": [],
      "authorship_tag": "ABX9TyMsWdi7+BbYuvax6HqZuNEZ",
      "include_colab_link": true
    },
    "kernelspec": {
      "name": "python3",
      "display_name": "Python 3"
    },
    "language_info": {
      "name": "python"
    }
  },
  "cells": [
    {
      "cell_type": "markdown",
      "metadata": {
        "id": "view-in-github",
        "colab_type": "text"
      },
      "source": [
        "<a href=\"https://colab.research.google.com/github/Kanahe1800/hanami-bloom-prediction/blob/main/createLastcsvs.ipynb\" target=\"_parent\"><img src=\"https://colab.research.google.com/assets/colab-badge.svg\" alt=\"Open In Colab\"/></a>"
      ]
    },
    {
      "cell_type": "code",
      "execution_count": null,
      "metadata": {
        "id": "N-tJqEQMV6iA"
      },
      "outputs": [],
      "source": []
    },
    {
      "cell_type": "markdown",
      "metadata": {
        "id": "5eab9907"
      },
      "source": [
        "# Task\n",
        "Match each city's weather data from the files in \"/content/all_city_weather_data/\" with the bloom dates from \"cherry_blossom_finalized.csv\" and create a new CSV file for each city containing the weather data and the corresponding bloom date."
      ]
    },
    {
      "cell_type": "markdown",
      "metadata": {
        "id": "9fad7430"
      },
      "source": [
        "## Load cherry blossom data\n",
        "\n",
        "### Subtask:\n",
        "Load the `cherry_blossom_finalized.csv` file into a DataFrame.\n"
      ]
    },
    {
      "cell_type": "markdown",
      "metadata": {
        "id": "f1707765"
      },
      "source": [
        "**Reasoning**:\n",
        "Import pandas and load the cherry blossom data into a DataFrame.\n",
        "\n"
      ]
    },
    {
      "cell_type": "code",
      "metadata": {
        "colab": {
          "base_uri": "https://localhost:8080/",
          "height": 446
        },
        "id": "8bb60359",
        "outputId": "aac9992a-94cb-4d7e-aa0d-ebec0d57b21c"
      },
      "source": [
        "import pandas as pd\n",
        "\n",
        "cherry_blossom_df = pd.read_csv('/content/cherry_blossom_finalized.csv')\n",
        "display(cherry_blossom_df.head())"
      ],
      "execution_count": 1,
      "outputs": [
        {
          "output_type": "display_data",
          "data": {
            "text/plain": [
              "   Site Name                 1981                 1982                 1983  \\\n",
              "0   Wakkanai  1981-05-15 00:00:00  1982-05-18 00:00:00  1983-05-12 00:00:00   \n",
              "1  Asahikawa  1981-05-07 00:00:00  1982-05-07 00:00:00  1983-04-29 00:00:00   \n",
              "2   Abashiri  1981-05-17 00:00:00  1982-05-13 00:00:00  1983-05-05 00:00:00   \n",
              "3    Sapporo  1981-05-08 00:00:00  1982-05-08 00:00:00  1983-05-01 00:00:00   \n",
              "4    Obihiro  1981-05-07 00:00:00  1982-05-09 00:00:00  1983-05-03 00:00:00   \n",
              "\n",
              "                  1984                 1985                 1986  \\\n",
              "0  1984-05-26 00:00:00  1985-05-17 00:00:00  1986-05-18 00:00:00   \n",
              "1  1984-05-17 00:00:00  1985-05-06 00:00:00  1986-05-08 00:00:00   \n",
              "2  1984-05-26 00:00:00  1985-05-12 00:00:00  1986-05-10 00:00:00   \n",
              "3  1984-05-21 00:00:00  1985-05-08 00:00:00  1986-05-09 00:00:00   \n",
              "4  1984-05-21 00:00:00  1985-05-06 00:00:00  1986-05-08 00:00:00   \n",
              "\n",
              "                  1987                 1988                 1989  ...  \\\n",
              "0  1987-05-19 00:00:00  1988-05-20 00:00:00  1989-05-19 00:00:00  ...   \n",
              "1  1987-05-10 00:00:00  1988-05-11 00:00:00  1989-05-06 00:00:00  ...   \n",
              "2  1987-05-11 00:00:00  1988-05-15 00:00:00  1989-05-19 00:00:00  ...   \n",
              "3  1987-05-09 00:00:00  1988-05-07 00:00:00  1989-05-04 00:00:00  ...   \n",
              "4  1987-05-08 00:00:00  1988-05-07 00:00:00  1989-05-07 00:00:00  ...   \n",
              "\n",
              "                  2018                 2019                 2020  \\\n",
              "0  2018-05-15 00:00:00  2019-05-09 00:00:00  2020-05-12 00:00:00   \n",
              "1  2018-05-01 00:00:00  2019-05-04 00:00:00  2020-05-04 00:00:00   \n",
              "2  2018-05-06 00:00:00  2019-05-07 00:00:00  2020-05-09 00:00:00   \n",
              "3  2018-04-29 00:00:00  2019-04-29 00:00:00  2020-05-02 00:00:00   \n",
              "4  2018-04-28 00:00:00  2019-04-30 00:00:00  2020-05-03 00:00:00   \n",
              "\n",
              "                  2021                 2022                 2023  \\\n",
              "0  2021-05-11 00:00:00  2022-05-09 00:00:00  2023-05-05 00:00:00   \n",
              "1  2021-05-03 00:00:00  2022-04-28 00:00:00  2023-04-28 00:00:00   \n",
              "2  2021-05-07 00:00:00  2022-04-30 00:00:00  2023-05-01 00:00:00   \n",
              "3  2021-04-27 00:00:00  2022-04-25 00:00:00  2023-04-21 00:00:00   \n",
              "4  2021-04-27 00:00:00  2022-04-25 00:00:00  2023-04-22 00:00:00   \n",
              "\n",
              "                  2024                 2025   Latitude   Longitude  \n",
              "0  2024-05-04 00:00:00  2025-05-10 00:00:00  45.415811  141.673031  \n",
              "1  2024-04-26 00:00:00  2025-05-02 00:00:00  43.770625  142.364974  \n",
              "2  2024-04-30 00:00:00  2025-05-10 00:00:00  44.020603  144.273203  \n",
              "3  2024-04-24 00:00:00  2025-04-27 00:00:00  43.061936  141.354292  \n",
              "4  2024-04-26 00:00:00  2025-05-03 00:00:00  42.923809  143.196632  \n",
              "\n",
              "[5 rows x 48 columns]"
            ],
            "text/html": [
              "\n",
              "  <div id=\"df-2425623b-4225-49db-9023-02a211d2ba67\" class=\"colab-df-container\">\n",
              "    <div>\n",
              "<style scoped>\n",
              "    .dataframe tbody tr th:only-of-type {\n",
              "        vertical-align: middle;\n",
              "    }\n",
              "\n",
              "    .dataframe tbody tr th {\n",
              "        vertical-align: top;\n",
              "    }\n",
              "\n",
              "    .dataframe thead th {\n",
              "        text-align: right;\n",
              "    }\n",
              "</style>\n",
              "<table border=\"1\" class=\"dataframe\">\n",
              "  <thead>\n",
              "    <tr style=\"text-align: right;\">\n",
              "      <th></th>\n",
              "      <th>Site Name</th>\n",
              "      <th>1981</th>\n",
              "      <th>1982</th>\n",
              "      <th>1983</th>\n",
              "      <th>1984</th>\n",
              "      <th>1985</th>\n",
              "      <th>1986</th>\n",
              "      <th>1987</th>\n",
              "      <th>1988</th>\n",
              "      <th>1989</th>\n",
              "      <th>...</th>\n",
              "      <th>2018</th>\n",
              "      <th>2019</th>\n",
              "      <th>2020</th>\n",
              "      <th>2021</th>\n",
              "      <th>2022</th>\n",
              "      <th>2023</th>\n",
              "      <th>2024</th>\n",
              "      <th>2025</th>\n",
              "      <th>Latitude</th>\n",
              "      <th>Longitude</th>\n",
              "    </tr>\n",
              "  </thead>\n",
              "  <tbody>\n",
              "    <tr>\n",
              "      <th>0</th>\n",
              "      <td>Wakkanai</td>\n",
              "      <td>1981-05-15 00:00:00</td>\n",
              "      <td>1982-05-18 00:00:00</td>\n",
              "      <td>1983-05-12 00:00:00</td>\n",
              "      <td>1984-05-26 00:00:00</td>\n",
              "      <td>1985-05-17 00:00:00</td>\n",
              "      <td>1986-05-18 00:00:00</td>\n",
              "      <td>1987-05-19 00:00:00</td>\n",
              "      <td>1988-05-20 00:00:00</td>\n",
              "      <td>1989-05-19 00:00:00</td>\n",
              "      <td>...</td>\n",
              "      <td>2018-05-15 00:00:00</td>\n",
              "      <td>2019-05-09 00:00:00</td>\n",
              "      <td>2020-05-12 00:00:00</td>\n",
              "      <td>2021-05-11 00:00:00</td>\n",
              "      <td>2022-05-09 00:00:00</td>\n",
              "      <td>2023-05-05 00:00:00</td>\n",
              "      <td>2024-05-04 00:00:00</td>\n",
              "      <td>2025-05-10 00:00:00</td>\n",
              "      <td>45.415811</td>\n",
              "      <td>141.673031</td>\n",
              "    </tr>\n",
              "    <tr>\n",
              "      <th>1</th>\n",
              "      <td>Asahikawa</td>\n",
              "      <td>1981-05-07 00:00:00</td>\n",
              "      <td>1982-05-07 00:00:00</td>\n",
              "      <td>1983-04-29 00:00:00</td>\n",
              "      <td>1984-05-17 00:00:00</td>\n",
              "      <td>1985-05-06 00:00:00</td>\n",
              "      <td>1986-05-08 00:00:00</td>\n",
              "      <td>1987-05-10 00:00:00</td>\n",
              "      <td>1988-05-11 00:00:00</td>\n",
              "      <td>1989-05-06 00:00:00</td>\n",
              "      <td>...</td>\n",
              "      <td>2018-05-01 00:00:00</td>\n",
              "      <td>2019-05-04 00:00:00</td>\n",
              "      <td>2020-05-04 00:00:00</td>\n",
              "      <td>2021-05-03 00:00:00</td>\n",
              "      <td>2022-04-28 00:00:00</td>\n",
              "      <td>2023-04-28 00:00:00</td>\n",
              "      <td>2024-04-26 00:00:00</td>\n",
              "      <td>2025-05-02 00:00:00</td>\n",
              "      <td>43.770625</td>\n",
              "      <td>142.364974</td>\n",
              "    </tr>\n",
              "    <tr>\n",
              "      <th>2</th>\n",
              "      <td>Abashiri</td>\n",
              "      <td>1981-05-17 00:00:00</td>\n",
              "      <td>1982-05-13 00:00:00</td>\n",
              "      <td>1983-05-05 00:00:00</td>\n",
              "      <td>1984-05-26 00:00:00</td>\n",
              "      <td>1985-05-12 00:00:00</td>\n",
              "      <td>1986-05-10 00:00:00</td>\n",
              "      <td>1987-05-11 00:00:00</td>\n",
              "      <td>1988-05-15 00:00:00</td>\n",
              "      <td>1989-05-19 00:00:00</td>\n",
              "      <td>...</td>\n",
              "      <td>2018-05-06 00:00:00</td>\n",
              "      <td>2019-05-07 00:00:00</td>\n",
              "      <td>2020-05-09 00:00:00</td>\n",
              "      <td>2021-05-07 00:00:00</td>\n",
              "      <td>2022-04-30 00:00:00</td>\n",
              "      <td>2023-05-01 00:00:00</td>\n",
              "      <td>2024-04-30 00:00:00</td>\n",
              "      <td>2025-05-10 00:00:00</td>\n",
              "      <td>44.020603</td>\n",
              "      <td>144.273203</td>\n",
              "    </tr>\n",
              "    <tr>\n",
              "      <th>3</th>\n",
              "      <td>Sapporo</td>\n",
              "      <td>1981-05-08 00:00:00</td>\n",
              "      <td>1982-05-08 00:00:00</td>\n",
              "      <td>1983-05-01 00:00:00</td>\n",
              "      <td>1984-05-21 00:00:00</td>\n",
              "      <td>1985-05-08 00:00:00</td>\n",
              "      <td>1986-05-09 00:00:00</td>\n",
              "      <td>1987-05-09 00:00:00</td>\n",
              "      <td>1988-05-07 00:00:00</td>\n",
              "      <td>1989-05-04 00:00:00</td>\n",
              "      <td>...</td>\n",
              "      <td>2018-04-29 00:00:00</td>\n",
              "      <td>2019-04-29 00:00:00</td>\n",
              "      <td>2020-05-02 00:00:00</td>\n",
              "      <td>2021-04-27 00:00:00</td>\n",
              "      <td>2022-04-25 00:00:00</td>\n",
              "      <td>2023-04-21 00:00:00</td>\n",
              "      <td>2024-04-24 00:00:00</td>\n",
              "      <td>2025-04-27 00:00:00</td>\n",
              "      <td>43.061936</td>\n",
              "      <td>141.354292</td>\n",
              "    </tr>\n",
              "    <tr>\n",
              "      <th>4</th>\n",
              "      <td>Obihiro</td>\n",
              "      <td>1981-05-07 00:00:00</td>\n",
              "      <td>1982-05-09 00:00:00</td>\n",
              "      <td>1983-05-03 00:00:00</td>\n",
              "      <td>1984-05-21 00:00:00</td>\n",
              "      <td>1985-05-06 00:00:00</td>\n",
              "      <td>1986-05-08 00:00:00</td>\n",
              "      <td>1987-05-08 00:00:00</td>\n",
              "      <td>1988-05-07 00:00:00</td>\n",
              "      <td>1989-05-07 00:00:00</td>\n",
              "      <td>...</td>\n",
              "      <td>2018-04-28 00:00:00</td>\n",
              "      <td>2019-04-30 00:00:00</td>\n",
              "      <td>2020-05-03 00:00:00</td>\n",
              "      <td>2021-04-27 00:00:00</td>\n",
              "      <td>2022-04-25 00:00:00</td>\n",
              "      <td>2023-04-22 00:00:00</td>\n",
              "      <td>2024-04-26 00:00:00</td>\n",
              "      <td>2025-05-03 00:00:00</td>\n",
              "      <td>42.923809</td>\n",
              "      <td>143.196632</td>\n",
              "    </tr>\n",
              "  </tbody>\n",
              "</table>\n",
              "<p>5 rows × 48 columns</p>\n",
              "</div>\n",
              "    <div class=\"colab-df-buttons\">\n",
              "\n",
              "  <div class=\"colab-df-container\">\n",
              "    <button class=\"colab-df-convert\" onclick=\"convertToInteractive('df-2425623b-4225-49db-9023-02a211d2ba67')\"\n",
              "            title=\"Convert this dataframe to an interactive table.\"\n",
              "            style=\"display:none;\">\n",
              "\n",
              "  <svg xmlns=\"http://www.w3.org/2000/svg\" height=\"24px\" viewBox=\"0 -960 960 960\">\n",
              "    <path d=\"M120-120v-720h720v720H120Zm60-500h600v-160H180v160Zm220 220h160v-160H400v160Zm0 220h160v-160H400v160ZM180-400h160v-160H180v160Zm440 0h160v-160H620v160ZM180-180h160v-160H180v160Zm440 0h160v-160H620v160Z\"/>\n",
              "  </svg>\n",
              "    </button>\n",
              "\n",
              "  <style>\n",
              "    .colab-df-container {\n",
              "      display:flex;\n",
              "      gap: 12px;\n",
              "    }\n",
              "\n",
              "    .colab-df-convert {\n",
              "      background-color: #E8F0FE;\n",
              "      border: none;\n",
              "      border-radius: 50%;\n",
              "      cursor: pointer;\n",
              "      display: none;\n",
              "      fill: #1967D2;\n",
              "      height: 32px;\n",
              "      padding: 0 0 0 0;\n",
              "      width: 32px;\n",
              "    }\n",
              "\n",
              "    .colab-df-convert:hover {\n",
              "      background-color: #E2EBFA;\n",
              "      box-shadow: 0px 1px 2px rgba(60, 64, 67, 0.3), 0px 1px 3px 1px rgba(60, 64, 67, 0.15);\n",
              "      fill: #174EA6;\n",
              "    }\n",
              "\n",
              "    .colab-df-buttons div {\n",
              "      margin-bottom: 4px;\n",
              "    }\n",
              "\n",
              "    [theme=dark] .colab-df-convert {\n",
              "      background-color: #3B4455;\n",
              "      fill: #D2E3FC;\n",
              "    }\n",
              "\n",
              "    [theme=dark] .colab-df-convert:hover {\n",
              "      background-color: #434B5C;\n",
              "      box-shadow: 0px 1px 3px 1px rgba(0, 0, 0, 0.15);\n",
              "      filter: drop-shadow(0px 1px 2px rgba(0, 0, 0, 0.3));\n",
              "      fill: #FFFFFF;\n",
              "    }\n",
              "  </style>\n",
              "\n",
              "    <script>\n",
              "      const buttonEl =\n",
              "        document.querySelector('#df-2425623b-4225-49db-9023-02a211d2ba67 button.colab-df-convert');\n",
              "      buttonEl.style.display =\n",
              "        google.colab.kernel.accessAllowed ? 'block' : 'none';\n",
              "\n",
              "      async function convertToInteractive(key) {\n",
              "        const element = document.querySelector('#df-2425623b-4225-49db-9023-02a211d2ba67');\n",
              "        const dataTable =\n",
              "          await google.colab.kernel.invokeFunction('convertToInteractive',\n",
              "                                                    [key], {});\n",
              "        if (!dataTable) return;\n",
              "\n",
              "        const docLinkHtml = 'Like what you see? Visit the ' +\n",
              "          '<a target=\"_blank\" href=https://colab.research.google.com/notebooks/data_table.ipynb>data table notebook</a>'\n",
              "          + ' to learn more about interactive tables.';\n",
              "        element.innerHTML = '';\n",
              "        dataTable['output_type'] = 'display_data';\n",
              "        await google.colab.output.renderOutput(dataTable, element);\n",
              "        const docLink = document.createElement('div');\n",
              "        docLink.innerHTML = docLinkHtml;\n",
              "        element.appendChild(docLink);\n",
              "      }\n",
              "    </script>\n",
              "  </div>\n",
              "\n",
              "\n",
              "    <div id=\"df-6bf30397-de24-4a09-8151-042a3133be5e\">\n",
              "      <button class=\"colab-df-quickchart\" onclick=\"quickchart('df-6bf30397-de24-4a09-8151-042a3133be5e')\"\n",
              "                title=\"Suggest charts\"\n",
              "                style=\"display:none;\">\n",
              "\n",
              "<svg xmlns=\"http://www.w3.org/2000/svg\" height=\"24px\"viewBox=\"0 0 24 24\"\n",
              "     width=\"24px\">\n",
              "    <g>\n",
              "        <path d=\"M19 3H5c-1.1 0-2 .9-2 2v14c0 1.1.9 2 2 2h14c1.1 0 2-.9 2-2V5c0-1.1-.9-2-2-2zM9 17H7v-7h2v7zm4 0h-2V7h2v10zm4 0h-2v-4h2v4z\"/>\n",
              "    </g>\n",
              "</svg>\n",
              "      </button>\n",
              "\n",
              "<style>\n",
              "  .colab-df-quickchart {\n",
              "      --bg-color: #E8F0FE;\n",
              "      --fill-color: #1967D2;\n",
              "      --hover-bg-color: #E2EBFA;\n",
              "      --hover-fill-color: #174EA6;\n",
              "      --disabled-fill-color: #AAA;\n",
              "      --disabled-bg-color: #DDD;\n",
              "  }\n",
              "\n",
              "  [theme=dark] .colab-df-quickchart {\n",
              "      --bg-color: #3B4455;\n",
              "      --fill-color: #D2E3FC;\n",
              "      --hover-bg-color: #434B5C;\n",
              "      --hover-fill-color: #FFFFFF;\n",
              "      --disabled-bg-color: #3B4455;\n",
              "      --disabled-fill-color: #666;\n",
              "  }\n",
              "\n",
              "  .colab-df-quickchart {\n",
              "    background-color: var(--bg-color);\n",
              "    border: none;\n",
              "    border-radius: 50%;\n",
              "    cursor: pointer;\n",
              "    display: none;\n",
              "    fill: var(--fill-color);\n",
              "    height: 32px;\n",
              "    padding: 0;\n",
              "    width: 32px;\n",
              "  }\n",
              "\n",
              "  .colab-df-quickchart:hover {\n",
              "    background-color: var(--hover-bg-color);\n",
              "    box-shadow: 0 1px 2px rgba(60, 64, 67, 0.3), 0 1px 3px 1px rgba(60, 64, 67, 0.15);\n",
              "    fill: var(--button-hover-fill-color);\n",
              "  }\n",
              "\n",
              "  .colab-df-quickchart-complete:disabled,\n",
              "  .colab-df-quickchart-complete:disabled:hover {\n",
              "    background-color: var(--disabled-bg-color);\n",
              "    fill: var(--disabled-fill-color);\n",
              "    box-shadow: none;\n",
              "  }\n",
              "\n",
              "  .colab-df-spinner {\n",
              "    border: 2px solid var(--fill-color);\n",
              "    border-color: transparent;\n",
              "    border-bottom-color: var(--fill-color);\n",
              "    animation:\n",
              "      spin 1s steps(1) infinite;\n",
              "  }\n",
              "\n",
              "  @keyframes spin {\n",
              "    0% {\n",
              "      border-color: transparent;\n",
              "      border-bottom-color: var(--fill-color);\n",
              "      border-left-color: var(--fill-color);\n",
              "    }\n",
              "    20% {\n",
              "      border-color: transparent;\n",
              "      border-left-color: var(--fill-color);\n",
              "      border-top-color: var(--fill-color);\n",
              "    }\n",
              "    30% {\n",
              "      border-color: transparent;\n",
              "      border-left-color: var(--fill-color);\n",
              "      border-top-color: var(--fill-color);\n",
              "      border-right-color: var(--fill-color);\n",
              "    }\n",
              "    40% {\n",
              "      border-color: transparent;\n",
              "      border-right-color: var(--fill-color);\n",
              "      border-top-color: var(--fill-color);\n",
              "    }\n",
              "    60% {\n",
              "      border-color: transparent;\n",
              "      border-right-color: var(--fill-color);\n",
              "    }\n",
              "    80% {\n",
              "      border-color: transparent;\n",
              "      border-right-color: var(--fill-color);\n",
              "      border-bottom-color: var(--fill-color);\n",
              "    }\n",
              "    90% {\n",
              "      border-color: transparent;\n",
              "      border-bottom-color: var(--fill-color);\n",
              "    }\n",
              "  }\n",
              "</style>\n",
              "\n",
              "      <script>\n",
              "        async function quickchart(key) {\n",
              "          const quickchartButtonEl =\n",
              "            document.querySelector('#' + key + ' button');\n",
              "          quickchartButtonEl.disabled = true;  // To prevent multiple clicks.\n",
              "          quickchartButtonEl.classList.add('colab-df-spinner');\n",
              "          try {\n",
              "            const charts = await google.colab.kernel.invokeFunction(\n",
              "                'suggestCharts', [key], {});\n",
              "          } catch (error) {\n",
              "            console.error('Error during call to suggestCharts:', error);\n",
              "          }\n",
              "          quickchartButtonEl.classList.remove('colab-df-spinner');\n",
              "          quickchartButtonEl.classList.add('colab-df-quickchart-complete');\n",
              "        }\n",
              "        (() => {\n",
              "          let quickchartButtonEl =\n",
              "            document.querySelector('#df-6bf30397-de24-4a09-8151-042a3133be5e button');\n",
              "          quickchartButtonEl.style.display =\n",
              "            google.colab.kernel.accessAllowed ? 'block' : 'none';\n",
              "        })();\n",
              "      </script>\n",
              "    </div>\n",
              "\n",
              "    </div>\n",
              "  </div>\n"
            ],
            "application/vnd.google.colaboratory.intrinsic+json": {
              "type": "dataframe"
            }
          },
          "metadata": {}
        }
      ]
    },
    {
      "cell_type": "markdown",
      "metadata": {
        "id": "144c1355"
      },
      "source": [
        "## Identify city weather files\n",
        "\n",
        "### Subtask:\n",
        "Get a list of all the city weather CSV files in the `/content/all_city_weather_data/` directory.\n"
      ]
    },
    {
      "cell_type": "markdown",
      "metadata": {
        "id": "5439152d"
      },
      "source": [
        "**Reasoning**:\n",
        "List all files in the `/content/all_city_weather_data/` directory and filter for CSV files.\n",
        "\n"
      ]
    },
    {
      "cell_type": "code",
      "metadata": {
        "colab": {
          "base_uri": "https://localhost:8080/"
        },
        "id": "9b481e87",
        "outputId": "c8180785-2d37-4ab0-ad46-e6c819f776ec"
      },
      "source": [
        "import os\n",
        "\n",
        "all_files = os.listdir('/content/all_city_weather_data/')\n",
        "city_weather_files = [f for f in all_files if f.endswith('.csv')]\n",
        "print(city_weather_files)"
      ],
      "execution_count": 2,
      "outputs": [
        {
          "output_type": "stream",
          "name": "stdout",
          "text": [
            "['Tokushima.csv', 'Nara.csv', 'Matsuyama.csv', 'Aomori.csv', 'Wakkanai.csv', 'Ishigaki Island.csv', 'Hiroshima.csv', 'Mito.csv', 'Naze.csv', 'Sapporo.csv', 'Naha.csv', 'Hakodate.csv', 'Choshi.csv', 'Sendai.csv', 'Fukushima.csv', 'Tsu.csv', 'Matsue.csv', 'Tokyo.csv', 'Shimonoseki.csv', 'Minami Daito Island.csv', 'Maebashi.csv', 'Tottori.csv', 'Akita.csv', 'Kofu.csv', 'Nagoya.csv', 'Saga.csv', 'Miyazaki.csv', 'Nagano.csv', 'Takamatsu.csv', 'Yamagata.csv', 'Hikone.csv', 'Niigata.csv', 'Kanazawa.csv', 'Utsunomiya.csv', 'Fukuoka.csv', 'Abashiri.csv', 'Okayama.csv', 'Nagasaki.csv', 'Wakayama.csv', 'Osaka.csv', 'Oita.csv', 'Yokohama.csv', 'Asahikawa.csv', 'Gifu.csv', 'Kumamoto.csv', 'Muroran.csv', 'Kumagaya.csv', 'Kushiro.csv', 'Shizuoka.csv', 'Kyoto.csv', 'Kobe.csv', 'Morioka.csv', 'Obihiro.csv', 'Kochi.csv', 'Toyama.csv', 'Kagoshima.csv', 'Miyakojima.csv', 'Fukui.csv']\n"
          ]
        }
      ]
    },
    {
      "cell_type": "markdown",
      "metadata": {
        "id": "cb9429bd"
      },
      "source": [
        "## Process each city's data\n",
        "\n",
        "### Subtask:\n",
        "For each city weather file, load the data, extract the city name, find the corresponding bloom date for each year, add the bloom date as a new column, and save the updated DataFrame as a new CSV file.\n"
      ]
    },
    {
      "cell_type": "markdown",
      "metadata": {
        "id": "639d01f5"
      },
      "source": [
        "**Reasoning**:\n",
        "Iterate through each city weather file, load it, extract the city name, melt the cherry blossom data, merge the weather data with the bloom dates, and save the result to a new CSV file.\n",
        "\n"
      ]
    },
    {
      "cell_type": "code",
      "metadata": {
        "colab": {
          "base_uri": "https://localhost:8080/",
          "height": 408
        },
        "id": "cc2ea939",
        "outputId": "0eaac053-6e1a-4973-821b-0b42a047c7e4"
      },
      "source": [
        "import os\n",
        "\n",
        "melted_cherry_blossom_df = cherry_blossom_df.melt(\n",
        "    id_vars=['Site Name', 'Latitude', 'Longitude'],\n",
        "    var_name='Year',\n",
        "    value_name='Bloom Date'\n",
        ")\n",
        "melted_cherry_blossom_df['Year'] = pd.to_numeric(melted_cherry_blossom_df['Year'])\n",
        "\n",
        "for file_name in city_weather_files:\n",
        "    city_name = file_name.replace('.csv', '')\n",
        "    weather_df = pd.read_csv(os.path.join('/content/all_city_weather_data/', file_name))\n",
        "\n",
        "    merged_df = pd.merge(\n",
        "        weather_df,\n",
        "        melted_cherry_blossom_df[melted_cherry_blossom_df['Site Name'] == city_name],\n",
        "        left_on='Year',\n",
        "        right_on='Year',\n",
        "        how='left'\n",
        "    )\n",
        "\n",
        "    output_filename = f\"{city_name}_with_bloom_date.csv\"\n",
        "    merged_df.to_csv(output_filename, index=False)\n"
      ],
      "execution_count": 3,
      "outputs": [
        {
          "output_type": "error",
          "ename": "KeyError",
          "evalue": "'Year'",
          "traceback": [
            "\u001b[0;31m---------------------------------------------------------------------------\u001b[0m",
            "\u001b[0;31mKeyError\u001b[0m                                  Traceback (most recent call last)",
            "\u001b[0;32m/tmp/ipython-input-2171605791.py\u001b[0m in \u001b[0;36m<cell line: 0>\u001b[0;34m()\u001b[0m\n\u001b[1;32m     12\u001b[0m     \u001b[0mweather_df\u001b[0m \u001b[0;34m=\u001b[0m \u001b[0mpd\u001b[0m\u001b[0;34m.\u001b[0m\u001b[0mread_csv\u001b[0m\u001b[0;34m(\u001b[0m\u001b[0mos\u001b[0m\u001b[0;34m.\u001b[0m\u001b[0mpath\u001b[0m\u001b[0;34m.\u001b[0m\u001b[0mjoin\u001b[0m\u001b[0;34m(\u001b[0m\u001b[0;34m'/content/all_city_weather_data/'\u001b[0m\u001b[0;34m,\u001b[0m \u001b[0mfile_name\u001b[0m\u001b[0;34m)\u001b[0m\u001b[0;34m)\u001b[0m\u001b[0;34m\u001b[0m\u001b[0;34m\u001b[0m\u001b[0m\n\u001b[1;32m     13\u001b[0m \u001b[0;34m\u001b[0m\u001b[0m\n\u001b[0;32m---> 14\u001b[0;31m     merged_df = pd.merge(\n\u001b[0m\u001b[1;32m     15\u001b[0m         \u001b[0mweather_df\u001b[0m\u001b[0;34m,\u001b[0m\u001b[0;34m\u001b[0m\u001b[0;34m\u001b[0m\u001b[0m\n\u001b[1;32m     16\u001b[0m         \u001b[0mmelted_cherry_blossom_df\u001b[0m\u001b[0;34m[\u001b[0m\u001b[0mmelted_cherry_blossom_df\u001b[0m\u001b[0;34m[\u001b[0m\u001b[0;34m'Site Name'\u001b[0m\u001b[0;34m]\u001b[0m \u001b[0;34m==\u001b[0m \u001b[0mcity_name\u001b[0m\u001b[0;34m]\u001b[0m\u001b[0;34m,\u001b[0m\u001b[0;34m\u001b[0m\u001b[0;34m\u001b[0m\u001b[0m\n",
            "\u001b[0;32m/usr/local/lib/python3.12/dist-packages/pandas/core/reshape/merge.py\u001b[0m in \u001b[0;36mmerge\u001b[0;34m(left, right, how, on, left_on, right_on, left_index, right_index, sort, suffixes, copy, indicator, validate)\u001b[0m\n\u001b[1;32m    168\u001b[0m         )\n\u001b[1;32m    169\u001b[0m     \u001b[0;32melse\u001b[0m\u001b[0;34m:\u001b[0m\u001b[0;34m\u001b[0m\u001b[0;34m\u001b[0m\u001b[0m\n\u001b[0;32m--> 170\u001b[0;31m         op = _MergeOperation(\n\u001b[0m\u001b[1;32m    171\u001b[0m             \u001b[0mleft_df\u001b[0m\u001b[0;34m,\u001b[0m\u001b[0;34m\u001b[0m\u001b[0;34m\u001b[0m\u001b[0m\n\u001b[1;32m    172\u001b[0m             \u001b[0mright_df\u001b[0m\u001b[0;34m,\u001b[0m\u001b[0;34m\u001b[0m\u001b[0;34m\u001b[0m\u001b[0m\n",
            "\u001b[0;32m/usr/local/lib/python3.12/dist-packages/pandas/core/reshape/merge.py\u001b[0m in \u001b[0;36m__init__\u001b[0;34m(self, left, right, how, on, left_on, right_on, left_index, right_index, sort, suffixes, indicator, validate)\u001b[0m\n\u001b[1;32m    792\u001b[0m             \u001b[0mleft_drop\u001b[0m\u001b[0;34m,\u001b[0m\u001b[0;34m\u001b[0m\u001b[0;34m\u001b[0m\u001b[0m\n\u001b[1;32m    793\u001b[0m             \u001b[0mright_drop\u001b[0m\u001b[0;34m,\u001b[0m\u001b[0;34m\u001b[0m\u001b[0;34m\u001b[0m\u001b[0m\n\u001b[0;32m--> 794\u001b[0;31m         ) = self._get_merge_keys()\n\u001b[0m\u001b[1;32m    795\u001b[0m \u001b[0;34m\u001b[0m\u001b[0m\n\u001b[1;32m    796\u001b[0m         \u001b[0;32mif\u001b[0m \u001b[0mleft_drop\u001b[0m\u001b[0;34m:\u001b[0m\u001b[0;34m\u001b[0m\u001b[0;34m\u001b[0m\u001b[0m\n",
            "\u001b[0;32m/usr/local/lib/python3.12/dist-packages/pandas/core/reshape/merge.py\u001b[0m in \u001b[0;36m_get_merge_keys\u001b[0;34m(self)\u001b[0m\n\u001b[1;32m   1308\u001b[0m                         \u001b[0;31m#  the latter of which will raise\u001b[0m\u001b[0;34m\u001b[0m\u001b[0;34m\u001b[0m\u001b[0m\n\u001b[1;32m   1309\u001b[0m                         \u001b[0mlk\u001b[0m \u001b[0;34m=\u001b[0m \u001b[0mcast\u001b[0m\u001b[0;34m(\u001b[0m\u001b[0mHashable\u001b[0m\u001b[0;34m,\u001b[0m \u001b[0mlk\u001b[0m\u001b[0;34m)\u001b[0m\u001b[0;34m\u001b[0m\u001b[0;34m\u001b[0m\u001b[0m\n\u001b[0;32m-> 1310\u001b[0;31m                         \u001b[0mleft_keys\u001b[0m\u001b[0;34m.\u001b[0m\u001b[0mappend\u001b[0m\u001b[0;34m(\u001b[0m\u001b[0mleft\u001b[0m\u001b[0;34m.\u001b[0m\u001b[0m_get_label_or_level_values\u001b[0m\u001b[0;34m(\u001b[0m\u001b[0mlk\u001b[0m\u001b[0;34m)\u001b[0m\u001b[0;34m)\u001b[0m\u001b[0;34m\u001b[0m\u001b[0;34m\u001b[0m\u001b[0m\n\u001b[0m\u001b[1;32m   1311\u001b[0m                         \u001b[0mjoin_names\u001b[0m\u001b[0;34m.\u001b[0m\u001b[0mappend\u001b[0m\u001b[0;34m(\u001b[0m\u001b[0mlk\u001b[0m\u001b[0;34m)\u001b[0m\u001b[0;34m\u001b[0m\u001b[0;34m\u001b[0m\u001b[0m\n\u001b[1;32m   1312\u001b[0m                     \u001b[0;32melse\u001b[0m\u001b[0;34m:\u001b[0m\u001b[0;34m\u001b[0m\u001b[0;34m\u001b[0m\u001b[0m\n",
            "\u001b[0;32m/usr/local/lib/python3.12/dist-packages/pandas/core/generic.py\u001b[0m in \u001b[0;36m_get_label_or_level_values\u001b[0;34m(self, key, axis)\u001b[0m\n\u001b[1;32m   1909\u001b[0m             \u001b[0mvalues\u001b[0m \u001b[0;34m=\u001b[0m \u001b[0mself\u001b[0m\u001b[0;34m.\u001b[0m\u001b[0maxes\u001b[0m\u001b[0;34m[\u001b[0m\u001b[0maxis\u001b[0m\u001b[0;34m]\u001b[0m\u001b[0;34m.\u001b[0m\u001b[0mget_level_values\u001b[0m\u001b[0;34m(\u001b[0m\u001b[0mkey\u001b[0m\u001b[0;34m)\u001b[0m\u001b[0;34m.\u001b[0m\u001b[0m_values\u001b[0m\u001b[0;34m\u001b[0m\u001b[0;34m\u001b[0m\u001b[0m\n\u001b[1;32m   1910\u001b[0m         \u001b[0;32melse\u001b[0m\u001b[0;34m:\u001b[0m\u001b[0;34m\u001b[0m\u001b[0;34m\u001b[0m\u001b[0m\n\u001b[0;32m-> 1911\u001b[0;31m             \u001b[0;32mraise\u001b[0m \u001b[0mKeyError\u001b[0m\u001b[0;34m(\u001b[0m\u001b[0mkey\u001b[0m\u001b[0;34m)\u001b[0m\u001b[0;34m\u001b[0m\u001b[0;34m\u001b[0m\u001b[0m\n\u001b[0m\u001b[1;32m   1912\u001b[0m \u001b[0;34m\u001b[0m\u001b[0m\n\u001b[1;32m   1913\u001b[0m         \u001b[0;31m# Check for duplicates\u001b[0m\u001b[0;34m\u001b[0m\u001b[0;34m\u001b[0m\u001b[0m\n",
            "\u001b[0;31mKeyError\u001b[0m: 'Year'"
          ]
        }
      ]
    },
    {
      "cell_type": "markdown",
      "metadata": {
        "id": "643fa1ca"
      },
      "source": [
        "**Reasoning**:\n",
        "The error indicates that the 'Year' column is not present in one of the dataframes during the merge operation. I need to inspect the columns of `weather_df` to understand why the merge is failing and fix the column name used for merging.\n",
        "\n"
      ]
    },
    {
      "cell_type": "code",
      "metadata": {
        "colab": {
          "base_uri": "https://localhost:8080/"
        },
        "id": "I0p1uMMyXe6_",
        "outputId": "d249548d-9cce-4b46-e28c-d1a21aaf6250"
      },
      "source": [
        "for file_name in city_weather_files:\n",
        "    weather_df = pd.read_csv(os.path.join('/content/all_city_weather_data/', file_name))\n",
        "    print(f\"Columns in {file_name}: {weather_df.columns.tolist()}\")\n",
        "    break"
      ],
      "execution_count": 4,
      "outputs": [
        {
          "output_type": "stream",
          "name": "stdout",
          "text": [
            "Columns in Tokushima.csv: ['seasonal_year', 'Nov_prec', 'Dec_prec', 'Jan_prec', 'Feb_prec', 'Mar_prec', 'Nov_temp_y', 'Dec_temp_y', 'Jan_temp_y', 'Feb_temp_y', 'Mar_temp_y']\n"
          ]
        }
      ]
    },
    {
      "cell_type": "markdown",
      "metadata": {
        "id": "3c65a4b0"
      },
      "source": [
        "**Reasoning**:\n",
        "The previous output shows that the year column in the weather dataframes is named 'seasonal_year'. I need to use 'seasonal_year' for merging with the 'Year' column in the melted cherry blossom dataframe. I will now rewrite the code to perform the merge using the correct column name and save the resulting dataframes.\n",
        "\n"
      ]
    },
    {
      "cell_type": "code",
      "metadata": {
        "id": "badccabb"
      },
      "source": [
        "import os\n",
        "\n",
        "melted_cherry_blossom_df = cherry_blossom_df.melt(\n",
        "    id_vars=['Site Name', 'Latitude', 'Longitude'],\n",
        "    var_name='Year',\n",
        "    value_name='Bloom Date'\n",
        ")\n",
        "melted_cherry_blossom_df['Year'] = pd.to_numeric(melted_cherry_blossom_df['Year'])\n",
        "\n",
        "# Convert 'Bloom Date' to datetime objects to extract day and week of year\n",
        "melted_cherry_blossom_df['Bloom Date'] = pd.to_datetime(melted_cherry_blossom_df['Bloom Date'])\n",
        "melted_cherry_blossom_df['bloom_day_of_year'] = melted_cherry_blossom_df['Bloom Date'].dt.dayofyear\n",
        "melted_cherry_blossom_df['bloom_week_of_year'] = melted_cherry_blossom_df['Bloom Date'].dt.isocalendar().week\n",
        "\n",
        "\n",
        "# Create output directory if it doesn't exist\n",
        "output_dir = 'city_bloom_data'\n",
        "os.makedirs(output_dir, exist_ok=True)\n",
        "\n",
        "for file_name in city_weather_files:\n",
        "    city_name = file_name.replace('.csv', '')\n",
        "    weather_df = pd.read_csv(os.path.join('/content/all_city_weather_data/', file_name))\n",
        "\n",
        "    merged_df = pd.merge(\n",
        "        weather_df,\n",
        "        melted_cherry_blossom_df[melted_cherry_blossom_df['Site Name'] == city_name],\n",
        "        left_on='seasonal_year',\n",
        "        right_on='Year',\n",
        "        how='left'\n",
        "    )\n",
        "    # Drop the original 'Bloom Date' and other columns not needed for ML\n",
        "    merged_df = merged_df.drop(columns=['Site Name', 'Latitude', 'Longitude', 'Year', 'Bloom Date'])\n",
        "    output_filename = os.path.join(output_dir, f\"{city_name}_with_bloom_day_and_week_of_year.csv\")\n",
        "    merged_df.to_csv(output_filename, index=False)"
      ],
      "execution_count": 13,
      "outputs": []
    },
    {
      "cell_type": "code",
      "source": [
        "import shutil\n",
        "from google.colab import files\n",
        "\n",
        "# Compress the directory\n",
        "output_filename = 'city_bloom_data.zip'\n",
        "shutil.make_archive(output_filename.replace('.zip', ''), 'zip', 'city_bloom_data')\n",
        "\n",
        "# Download the file\n",
        "files.download(output_filename)"
      ],
      "metadata": {
        "colab": {
          "base_uri": "https://localhost:8080/",
          "height": 17
        },
        "id": "VhXEvlrOZKiu",
        "outputId": "596773ee-13d4-4f38-bfcd-5c9329616642"
      },
      "execution_count": 14,
      "outputs": [
        {
          "output_type": "display_data",
          "data": {
            "text/plain": [
              "<IPython.core.display.Javascript object>"
            ],
            "application/javascript": [
              "\n",
              "    async function download(id, filename, size) {\n",
              "      if (!google.colab.kernel.accessAllowed) {\n",
              "        return;\n",
              "      }\n",
              "      const div = document.createElement('div');\n",
              "      const label = document.createElement('label');\n",
              "      label.textContent = `Downloading \"${filename}\": `;\n",
              "      div.appendChild(label);\n",
              "      const progress = document.createElement('progress');\n",
              "      progress.max = size;\n",
              "      div.appendChild(progress);\n",
              "      document.body.appendChild(div);\n",
              "\n",
              "      const buffers = [];\n",
              "      let downloaded = 0;\n",
              "\n",
              "      const channel = await google.colab.kernel.comms.open(id);\n",
              "      // Send a message to notify the kernel that we're ready.\n",
              "      channel.send({})\n",
              "\n",
              "      for await (const message of channel.messages) {\n",
              "        // Send a message to notify the kernel that we're ready.\n",
              "        channel.send({})\n",
              "        if (message.buffers) {\n",
              "          for (const buffer of message.buffers) {\n",
              "            buffers.push(buffer);\n",
              "            downloaded += buffer.byteLength;\n",
              "            progress.value = downloaded;\n",
              "          }\n",
              "        }\n",
              "      }\n",
              "      const blob = new Blob(buffers, {type: 'application/binary'});\n",
              "      const a = document.createElement('a');\n",
              "      a.href = window.URL.createObjectURL(blob);\n",
              "      a.download = filename;\n",
              "      div.appendChild(a);\n",
              "      a.click();\n",
              "      div.remove();\n",
              "    }\n",
              "  "
            ]
          },
          "metadata": {}
        },
        {
          "output_type": "display_data",
          "data": {
            "text/plain": [
              "<IPython.core.display.Javascript object>"
            ],
            "application/javascript": [
              "download(\"download_b231cd6f-cb9d-4a42-96ee-d7ca7d68559d\", \"city_bloom_data.zip\", 108284)"
            ]
          },
          "metadata": {}
        }
      ]
    }
  ]
}